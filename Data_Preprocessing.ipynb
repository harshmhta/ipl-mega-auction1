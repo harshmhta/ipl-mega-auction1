{
 "cells": [
  {
   "cell_type": "code",
   "execution_count": 1,
   "metadata": {},
   "outputs": [],
   "source": [
    "import pandas as pd\n",
    "import numpy as np\n",
    "import matplotlib.pyplot as plt"
   ]
  },
  {
   "cell_type": "code",
   "execution_count": 2,
   "metadata": {},
   "outputs": [],
   "source": [
    "stats = pd.read_csv(\"./data/names-cleaned-stats.csv\")"
   ]
  },
  {
   "cell_type": "code",
   "execution_count": 3,
   "metadata": {},
   "outputs": [],
   "source": [
    "agg_stats = pd.read_csv(\"./data/sum_agg_stats.csv\")"
   ]
  },
  {
   "cell_type": "code",
   "execution_count": 4,
   "metadata": {},
   "outputs": [],
   "source": [
    "full_agg_stats = pd.read_csv(\"./data/agg_stats.csv\")"
   ]
  },
  {
   "cell_type": "code",
   "execution_count": 5,
   "metadata": {},
   "outputs": [
    {
     "data": {
      "text/plain": [
       "array(['All Rounder', 'Batsman', 'Bowler', 'Wicket Keeper',\n",
       "       'Wicket-Keeper', 'Wicket keeper'], dtype=object)"
      ]
     },
     "execution_count": 5,
     "metadata": {},
     "output_type": "execute_result"
    }
   ],
   "source": [
    "stats.position.unique()"
   ]
  },
  {
   "cell_type": "code",
   "execution_count": 6,
   "metadata": {},
   "outputs": [],
   "source": [
    "position_dict = {\"All Rounder\": \"AR\", \"Batsman\": \"BAT\", \"Bowler\": \"BWL\", \"Wicket Keeper\": \"WK\", \"Wicket-Keeper\": \"WK\", \"Wicket keeper\": \"WK\"}\n",
    "stats.replace(dict(position=position_dict), inplace=True)"
   ]
  },
  {
   "cell_type": "markdown",
   "metadata": {},
   "source": [
    "### Merging position to full agg stats"
   ]
  },
  {
   "cell_type": "code",
   "execution_count": 7,
   "metadata": {},
   "outputs": [],
   "source": [
    "position = stats[[\"player_name\", \"position\"]].drop_duplicates(subset=[\"player_name\"])"
   ]
  },
  {
   "cell_type": "code",
   "execution_count": 44,
   "metadata": {},
   "outputs": [],
   "source": [
    "full_agg_stats_merged = pd.merge(full_agg_stats, position, right_on=\"player_name\", left_on=\"PLAYER\", how=\"inner\")"
   ]
  },
  {
   "cell_type": "code",
   "execution_count": 45,
   "metadata": {},
   "outputs": [
    {
     "data": {
      "text/plain": [
       "(239, 20)"
      ]
     },
     "execution_count": 45,
     "metadata": {},
     "output_type": "execute_result"
    }
   ],
   "source": [
    "full_agg_stats_merged.shape"
   ]
  },
  {
   "cell_type": "markdown",
   "metadata": {},
   "source": [
    "### FULL AGG STATS contains stats for players in the auction and not the whole of IPL history"
   ]
  },
  {
   "cell_type": "code",
   "execution_count": null,
   "metadata": {},
   "outputs": [],
   "source": [
    "stats.head()"
   ]
  },
  {
   "cell_type": "code",
   "execution_count": 10,
   "metadata": {},
   "outputs": [],
   "source": [
    "points_bat_top = np.percentile(full_agg_stats_merged[\"Pts_mean\"], 90)\n",
    "points_bat_ab_avg = np.percentile(full_agg_stats_merged[\"Pts_mean\"], 75)\n",
    "points_bat_avg = np.percentile(full_agg_stats_merged[\"Pts_mean\"], 50)\n",
    "points_bowl_top = np.percentile(full_agg_stats_merged[\"Wkts_mean\"], 90)\n",
    "points_bowl_ab_avg = np.percentile(full_agg_stats_merged[\"Wkts_mean\"], 75)\n",
    "points_bowl_avg = np.percentile(full_agg_stats_merged[\"Wkts_mean\"], 50)\n",
    "points_dots_top = np.percentile(full_agg_stats_merged[\"Dots_mean\"], 90)\n",
    "points_dots_ab_avg = np.percentile(full_agg_stats_merged[\"Dots_mean\"], 75)\n",
    "points_dots_avg = np.percentile(full_agg_stats_merged[\"Dots_mean\"], 50)\n",
    "points_fours_top = np.percentile(full_agg_stats_merged[\"4s_mean\"], 90)\n",
    "points_fours_ab_avg = np.percentile(full_agg_stats_merged[\"4s_mean\"], 75)\n",
    "points_fours_avg = np.percentile(full_agg_stats_merged[\"4s_mean\"], 50)\n",
    "points_six_top = np.percentile(full_agg_stats_merged[\"6s_mean\"], 90)\n",
    "points_six_ab_avg = np.percentile(full_agg_stats_merged[\"6s_mean\"], 75)\n",
    "points_six_avg = np.percentile(full_agg_stats_merged[\"6s_mean\"], 50)"
   ]
  },
  {
   "cell_type": "code",
   "execution_count": 11,
   "metadata": {},
   "outputs": [],
   "source": [
    "def get_batting_rating(player_record):\n",
    "    '''\n",
    "    Get the batting rating alone for each player in a season.\n",
    "    If the \n",
    "    '''\n",
    "    batting_rating = 0.0\n",
    "    year_pts = player_record[\"year_points\"]\n",
    "    num_fours = player_record[\"num_fours\"]\n",
    "    num_six = player_record[\"num_six\"]\n",
    "    \n",
    "    '''\n",
    "    On Points\n",
    "    '''\n",
    "    if  year_pts> points_bat_top:\n",
    "        batting_rating+=50.0\n",
    "    elif (year_pts > points_bat_ab_avg) and (year_pts <= points_bat_top):\n",
    "        batting_rating+=25.0\n",
    "    elif (year_pts > points_bat_avg) and (year_pts <= points_bat_ab_avg):\n",
    "        batting_rating+=10.0\n",
    "    else:\n",
    "        batting_rating+=1.0\n",
    "    \n",
    "    '''\n",
    "    On 4's\n",
    "    '''\n",
    "    if  num_fours> points_fours_top:\n",
    "        batting_rating+=25.0\n",
    "    elif (num_fours > points_fours_ab_avg) and (num_fours <= points_fours_top):\n",
    "        batting_rating+=12.5\n",
    "    elif (num_fours > points_fours_avg) and (num_fours <= points_fours_ab_avg):\n",
    "        batting_rating+=5.0\n",
    "    else:\n",
    "        batting_rating+=1.0\n",
    "        \n",
    "    '''\n",
    "    On 6's\n",
    "    '''\n",
    "    if  num_six> points_six_top:\n",
    "        batting_rating+=25.0\n",
    "    elif (num_six > points_six_ab_avg) and (num_six <= points_six_top):\n",
    "        batting_rating+=12.5\n",
    "    elif (num_six > points_six_avg) and (num_six <= points_six_ab_avg):\n",
    "        batting_rating+=5.0\n",
    "    else:\n",
    "        batting_rating+=1.0\n",
    "    \n",
    "    return batting_rating"
   ]
  },
  {
   "cell_type": "code",
   "execution_count": 12,
   "metadata": {},
   "outputs": [],
   "source": [
    "def get_bowling_rating(player_record):\n",
    "    '''\n",
    "    Get the bowling rating alone for each player in a season.\n",
    "    If the \n",
    "    '''\n",
    "    bowling_rating = 0.0\n",
    "    year_pts = player_record[\"year_points\"]\n",
    "    num_wkts = player_record[\"num_wkts\"]\n",
    "    num_dots = player_record[\"num_dots\"]\n",
    "    \n",
    "    '''\n",
    "    On Points\n",
    "    '''\n",
    "    if  year_pts> points_bat_top:\n",
    "        bowling_rating+=50.0\n",
    "    elif (year_pts > points_bat_ab_avg) and (year_pts <= points_bat_top):\n",
    "        bowling_rating+=25.0\n",
    "    elif (year_pts > points_bat_avg) and (year_pts <= points_bat_ab_avg):\n",
    "        bowling_rating+=10.0\n",
    "    else:\n",
    "        bowling_rating+=1.0\n",
    "    \n",
    "    '''\n",
    "    On wickets\n",
    "    '''\n",
    "    if  num_wkts> points_bowl_top:\n",
    "        bowling_rating+=25.0\n",
    "    elif (num_wkts > points_bowl_ab_avg) and (num_wkts <= points_bowl_top):\n",
    "        bowling_rating+=12.5\n",
    "    elif (num_wkts > points_bowl_avg) and (num_wkts <= points_bowl_ab_avg):\n",
    "        bowling_rating+=5.0\n",
    "    else:\n",
    "        bowling_rating+=1.0\n",
    "        \n",
    "    '''\n",
    "    On dots\n",
    "    '''\n",
    "    if  num_dots> points_dots_top:\n",
    "        bowling_rating+=25.0\n",
    "    elif (num_dots > points_dots_ab_avg) and (num_dots <= points_dots_top):\n",
    "        bowling_rating+=12.5\n",
    "    elif (num_dots > points_dots_avg) and (num_dots <= points_dots_ab_avg):\n",
    "        bowling_rating+=5.0\n",
    "    else:\n",
    "        bowling_rating+=1.0\n",
    "    \n",
    "    return bowling_rating"
   ]
  },
  {
   "cell_type": "code",
   "execution_count": 13,
   "metadata": {},
   "outputs": [],
   "source": [
    "def get_positional_points(player_record):\n",
    "    '''\n",
    "    We give additional points to people who made it to the top 50 . This is to boost those special\n",
    "    souls who did well in one -two season and then faded out.\n",
    "    \n",
    "    The rating is based on an inverse distribution.\n",
    "    '''\n",
    "    year_position = player_record[\"year_position\"]\n",
    "    return  50/year_position"
   ]
  },
  {
   "cell_type": "code",
   "execution_count": 14,
   "metadata": {},
   "outputs": [],
   "source": [
    "def assign_rating_for_season(player_record):\n",
    "    '''\n",
    "    For each season the players position in the standings would be considered and depending on their position, \n",
    "    their respective stats would be considered and ratings would be summed up.\n",
    "    \n",
    "    All rounder -> 0.5 * Batting  + 0.5 * Bowling Rating\n",
    "    Higher the better.\n",
    "    '''\n",
    "    \n",
    "    position = player_record[\"position\"]\n",
    "    \n",
    "    if (position == \"BAT\") or (position == \"WK\"):\n",
    "        return (0.8 * get_batting_rating(player_record)) + (0.2 * get_positional_points(player_record))\n",
    "    elif position == \"BWL\":\n",
    "        return (0.8 * get_bowling_rating(player_record)) + (0.2 * get_positional_points(player_record))\n",
    "    elif position == \"AR\":\n",
    "        return (0.8 * ((0.5 * get_batting_rating(player_record)) + (0.5 * get_bowling_rating(player_record)))) + (0.2 * get_positional_points(player_record))"
   ]
  },
  {
   "cell_type": "code",
   "execution_count": 15,
   "metadata": {},
   "outputs": [],
   "source": [
    "stats[\"season_rating_points\"] = stats.apply(lambda x: assign_rating_for_season(x), axis=1)"
   ]
  },
  {
   "cell_type": "markdown",
   "metadata": {},
   "source": [
    "### Merge Overseas or indian to aggregate stats"
   ]
  },
  {
   "cell_type": "code",
   "execution_count": 48,
   "metadata": {},
   "outputs": [
    {
     "data": {
      "text/plain": [
       "(239, 2)"
      ]
     },
     "execution_count": 48,
     "metadata": {},
     "output_type": "execute_result"
    }
   ],
   "source": [
    "ov_indian = stats[[\"player_name\", \"overseas_or_indian\"]].drop_duplicates(subset=[\"player_name\"])\n",
    "ov_indian.shape"
   ]
  },
  {
   "cell_type": "code",
   "execution_count": 49,
   "metadata": {},
   "outputs": [],
   "source": [
    "full_agg_stats_merged = pd.merge(full_agg_stats_merged, ov_indian, left_on=\"PLAYER\", right_on=\"player_name\", how=\"inner\")"
   ]
  },
  {
   "cell_type": "code",
   "execution_count": 50,
   "metadata": {},
   "outputs": [],
   "source": [
    "full_agg_stats_merged.drop([\"player_name_x\", \"player_name_y\"],axis=1, inplace=True)"
   ]
  },
  {
   "cell_type": "code",
   "execution_count": 51,
   "metadata": {},
   "outputs": [
    {
     "data": {
      "text/plain": [
       "(239, 20)"
      ]
     },
     "execution_count": 51,
     "metadata": {},
     "output_type": "execute_result"
    }
   ],
   "source": [
    "full_agg_stats_merged.shape"
   ]
  },
  {
   "cell_type": "markdown",
   "metadata": {},
   "source": [
    "### Merge median_season_rating_points to full_agg_stats\n",
    "1. Median isn't suceptible to outliers"
   ]
  },
  {
   "cell_type": "code",
   "execution_count": 52,
   "metadata": {},
   "outputs": [],
   "source": [
    "median_season_ratings = stats[[\"player_name\", \"season_rating_points\"]].groupby([\"player_name\"]).agg(['median', 'mean']).reset_index(drop=False)\n",
    "median_season_ratings.columns = [\"player_name\", \"median_season_ratings\", \"avg_season_ratings\"]"
   ]
  },
  {
   "cell_type": "code",
   "execution_count": 53,
   "metadata": {},
   "outputs": [
    {
     "data": {
      "text/html": [
       "<div>\n",
       "<style scoped>\n",
       "    .dataframe tbody tr th:only-of-type {\n",
       "        vertical-align: middle;\n",
       "    }\n",
       "\n",
       "    .dataframe tbody tr th {\n",
       "        vertical-align: top;\n",
       "    }\n",
       "\n",
       "    .dataframe thead th {\n",
       "        text-align: right;\n",
       "    }\n",
       "</style>\n",
       "<table border=\"1\" class=\"dataframe\">\n",
       "  <thead>\n",
       "    <tr style=\"text-align: right;\">\n",
       "      <th></th>\n",
       "      <th>player_name</th>\n",
       "      <th>median_season_ratings</th>\n",
       "      <th>avg_season_ratings</th>\n",
       "    </tr>\n",
       "  </thead>\n",
       "  <tbody>\n",
       "    <tr>\n",
       "      <th>0</th>\n",
       "      <td>ABdeVilliers</td>\n",
       "      <td>50.344828</td>\n",
       "      <td>51.410021</td>\n",
       "    </tr>\n",
       "    <tr>\n",
       "      <th>1</th>\n",
       "      <td>AaronFinch</td>\n",
       "      <td>11.699010</td>\n",
       "      <td>27.457438</td>\n",
       "    </tr>\n",
       "    <tr>\n",
       "      <th>2</th>\n",
       "      <td>AbhishekJhunjhunwala</td>\n",
       "      <td>2.472464</td>\n",
       "      <td>4.623134</td>\n",
       "    </tr>\n",
       "    <tr>\n",
       "      <th>3</th>\n",
       "      <td>AbhishekNayar</td>\n",
       "      <td>2.480645</td>\n",
       "      <td>8.571047</td>\n",
       "    </tr>\n",
       "    <tr>\n",
       "      <th>4</th>\n",
       "      <td>AdamGilchrist</td>\n",
       "      <td>70.380747</td>\n",
       "      <td>61.764019</td>\n",
       "    </tr>\n",
       "  </tbody>\n",
       "</table>\n",
       "</div>"
      ],
      "text/plain": [
       "            player_name  median_season_ratings  avg_season_ratings\n",
       "0          ABdeVilliers              50.344828           51.410021\n",
       "1            AaronFinch              11.699010           27.457438\n",
       "2  AbhishekJhunjhunwala               2.472464            4.623134\n",
       "3         AbhishekNayar               2.480645            8.571047\n",
       "4         AdamGilchrist              70.380747           61.764019"
      ]
     },
     "execution_count": 53,
     "metadata": {},
     "output_type": "execute_result"
    }
   ],
   "source": [
    "median_season_ratings.head()"
   ]
  },
  {
   "cell_type": "code",
   "execution_count": 54,
   "metadata": {},
   "outputs": [],
   "source": [
    "full_agg_stats_merged = pd.merge(full_agg_stats_merged, median_season_ratings, left_on=\"PLAYER\", right_on=\"player_name\", how=\"inner\")"
   ]
  },
  {
   "cell_type": "code",
   "execution_count": 55,
   "metadata": {},
   "outputs": [
    {
     "data": {
      "text/plain": [
       "(239, 23)"
      ]
     },
     "execution_count": 55,
     "metadata": {},
     "output_type": "execute_result"
    }
   ],
   "source": [
    "full_agg_stats_merged.shape"
   ]
  },
  {
   "cell_type": "code",
   "execution_count": 57,
   "metadata": {},
   "outputs": [
    {
     "data": {
      "text/plain": [
       "Index(['PLAYER', 'Pts_sum', 'Pts_mean', 'years_played', 'Mat_sum', 'Mat_mean',\n",
       "       'Wkts_sum', 'Wkts_mean', 'Dots_sum', 'Dots_mean', '4s_sum', '4s_mean',\n",
       "       '6s_sum', '6s_mean', 'Catches_sum', 'Catches_mean', 'Stumpings_sum',\n",
       "       'Stumpings_mean', 'position', 'overseas_or_indian', 'player_name',\n",
       "       'median_season_ratings', 'avg_season_ratings'],\n",
       "      dtype='object')"
      ]
     },
     "execution_count": 57,
     "metadata": {},
     "output_type": "execute_result"
    }
   ],
   "source": [
    "full_agg_stats_merged.columns"
   ]
  },
  {
   "cell_type": "code",
   "execution_count": 58,
   "metadata": {},
   "outputs": [],
   "source": [
    "full_agg_stats_merged.drop([\"player_name\"],axis=1, inplace=True)"
   ]
  },
  {
   "cell_type": "code",
   "execution_count": 60,
   "metadata": {},
   "outputs": [
    {
     "data": {
      "text/plain": [
       "(array([104.,  27.,  14.,  21.,  15.,   6.,  15.,  16.,   7.,  14.]),\n",
       " array([ 2.45714286, 10.37809524, 18.29904762, 26.22      , 34.14095238,\n",
       "        42.06190476, 49.98285714, 57.90380952, 65.8247619 , 73.74571429,\n",
       "        81.66666667]),\n",
       " <a list of 10 Patch objects>)"
      ]
     },
     "execution_count": 60,
     "metadata": {},
     "output_type": "execute_result"
    },
    {
     "data": {
      "image/png": "[encoded data removed]",
      "text/plain": [
       "<Figure size 432x288 with 1 Axes>"
      ]
     },
     "metadata": {},
     "output_type": "display_data"
    }
   ],
   "source": [
    "plt.hist(full_agg_stats_merged[\"median_season_ratings\"])"
   ]
  },
  {
   "cell_type": "code",
   "execution_count": 61,
   "metadata": {},
   "outputs": [
    {
     "data": {
      "text/plain": [
       "(array([57., 44., 29., 24., 26., 24., 13., 16.,  4.,  2.]),\n",
       " array([ 2.46241292, 10.35758577, 18.25275862, 26.14793147, 34.04310431,\n",
       "        41.93827716, 49.83345001, 57.72862286, 65.62379571, 73.51896856,\n",
       "        81.41414141]),\n",
       " <a list of 10 Patch objects>)"
      ]
     },
     "execution_count": 61,
     "metadata": {},
     "output_type": "execute_result"
    },
    {
     "data": {
      "image/png": "[encoded data removed]",
      "text/plain": [
       "<Figure size 432x288 with 1 Axes>"
      ]
     },
     "metadata": {},
     "output_type": "display_data"
    }
   ],
   "source": [
    "plt.hist(full_agg_stats_merged[\"avg_season_ratings\"])"
   ]
  },
  {
   "cell_type": "code",
   "execution_count": 62,
   "metadata": {},
   "outputs": [
    {
     "data": {
      "text/html": [
       "<div>\n",
       "<style scoped>\n",
       "    .dataframe tbody tr th:only-of-type {\n",
       "        vertical-align: middle;\n",
       "    }\n",
       "\n",
       "    .dataframe tbody tr th {\n",
       "        vertical-align: top;\n",
       "    }\n",
       "\n",
       "    .dataframe thead th {\n",
       "        text-align: right;\n",
       "    }\n",
       "</style>\n",
       "<table border=\"1\" class=\"dataframe\">\n",
       "  <thead>\n",
       "    <tr style=\"text-align: right;\">\n",
       "      <th></th>\n",
       "      <th>median_season_ratings</th>\n",
       "      <th>avg_season_ratings</th>\n",
       "    </tr>\n",
       "  </thead>\n",
       "  <tbody>\n",
       "    <tr>\n",
       "      <th>count</th>\n",
       "      <td>239.000000</td>\n",
       "      <td>239.000000</td>\n",
       "    </tr>\n",
       "    <tr>\n",
       "      <th>mean</th>\n",
       "      <td>25.506570</td>\n",
       "      <td>27.358588</td>\n",
       "    </tr>\n",
       "    <tr>\n",
       "      <th>std</th>\n",
       "      <td>23.950032</td>\n",
       "      <td>18.964499</td>\n",
       "    </tr>\n",
       "    <tr>\n",
       "      <th>min</th>\n",
       "      <td>2.457143</td>\n",
       "      <td>2.462413</td>\n",
       "    </tr>\n",
       "    <tr>\n",
       "      <th>25%</th>\n",
       "      <td>5.701525</td>\n",
       "      <td>11.030430</td>\n",
       "    </tr>\n",
       "    <tr>\n",
       "      <th>50%</th>\n",
       "      <td>14.926582</td>\n",
       "      <td>24.663967</td>\n",
       "    </tr>\n",
       "    <tr>\n",
       "      <th>75%</th>\n",
       "      <td>40.758742</td>\n",
       "      <td>41.400565</td>\n",
       "    </tr>\n",
       "    <tr>\n",
       "      <th>max</th>\n",
       "      <td>81.666667</td>\n",
       "      <td>81.414141</td>\n",
       "    </tr>\n",
       "  </tbody>\n",
       "</table>\n",
       "</div>"
      ],
      "text/plain": [
       "       median_season_ratings  avg_season_ratings\n",
       "count             239.000000          239.000000\n",
       "mean               25.506570           27.358588\n",
       "std                23.950032           18.964499\n",
       "min                 2.457143            2.462413\n",
       "25%                 5.701525           11.030430\n",
       "50%                14.926582           24.663967\n",
       "75%                40.758742           41.400565\n",
       "max                81.666667           81.414141"
      ]
     },
     "execution_count": 62,
     "metadata": {},
     "output_type": "execute_result"
    }
   ],
   "source": [
    "full_agg_stats_merged[[\"median_season_ratings\", \"avg_season_ratings\"]].describe()"
   ]
  },
  {
   "cell_type": "code",
   "execution_count": 63,
   "metadata": {},
   "outputs": [],
   "source": [
    "top25_percentile = full_agg_stats_merged[(full_agg_stats_merged[\"median_season_ratings\"] > 40.758742) & (full_agg_stats_merged[\"avg_season_ratings\"] > 41.400565)]"
   ]
  },
  {
   "cell_type": "markdown",
   "metadata": {},
   "source": [
    "### Ideally we should try to get 11 players from here in this set"
   ]
  },
  {
   "cell_type": "code",
   "execution_count": 64,
   "metadata": {},
   "outputs": [
    {
     "data": {
      "text/html": [
       "<div>\n",
       "<style scoped>\n",
       "    .dataframe tbody tr th:only-of-type {\n",
       "        vertical-align: middle;\n",
       "    }\n",
       "\n",
       "    .dataframe tbody tr th {\n",
       "        vertical-align: top;\n",
       "    }\n",
       "\n",
       "    .dataframe thead th {\n",
       "        text-align: right;\n",
       "    }\n",
       "</style>\n",
       "<table border=\"1\" class=\"dataframe\">\n",
       "  <thead>\n",
       "    <tr style=\"text-align: right;\">\n",
       "      <th></th>\n",
       "      <th>PLAYER</th>\n",
       "      <th>median_season_ratings</th>\n",
       "      <th>avg_season_ratings</th>\n",
       "    </tr>\n",
       "  </thead>\n",
       "  <tbody>\n",
       "    <tr>\n",
       "      <th>175</th>\n",
       "      <td>RishabhPant</td>\n",
       "      <td>75.964286</td>\n",
       "      <td>62.549723</td>\n",
       "    </tr>\n",
       "    <tr>\n",
       "      <th>4</th>\n",
       "      <td>AdamGilchrist</td>\n",
       "      <td>70.380747</td>\n",
       "      <td>61.764019</td>\n",
       "    </tr>\n",
       "    <tr>\n",
       "      <th>177</th>\n",
       "      <td>RobinUthappa</td>\n",
       "      <td>50.282194</td>\n",
       "      <td>52.502645</td>\n",
       "    </tr>\n",
       "    <tr>\n",
       "      <th>114</th>\n",
       "      <td>MSDhoni</td>\n",
       "      <td>50.235588</td>\n",
       "      <td>48.927035</td>\n",
       "    </tr>\n",
       "    <tr>\n",
       "      <th>94</th>\n",
       "      <td>JosButtler</td>\n",
       "      <td>49.206697</td>\n",
       "      <td>51.842826</td>\n",
       "    </tr>\n",
       "  </tbody>\n",
       "</table>\n",
       "</div>"
      ],
      "text/plain": [
       "            PLAYER  median_season_ratings  avg_season_ratings\n",
       "175    RishabhPant              75.964286           62.549723\n",
       "4    AdamGilchrist              70.380747           61.764019\n",
       "177   RobinUthappa              50.282194           52.502645\n",
       "114        MSDhoni              50.235588           48.927035\n",
       "94      JosButtler              49.206697           51.842826"
      ]
     },
     "execution_count": 64,
     "metadata": {},
     "output_type": "execute_result"
    }
   ],
   "source": [
    "top25_percentile[top25_percentile.position==\"WK\"].sort_values([\"median_season_ratings\", \"avg_season_ratings\"], ascending=False)[[\"PLAYER\", \"median_season_ratings\", \"avg_season_ratings\"]]"
   ]
  },
  {
   "cell_type": "code",
   "execution_count": 65,
   "metadata": {},
   "outputs": [
    {
     "data": {
      "text/html": [
       "<div>\n",
       "<style scoped>\n",
       "    .dataframe tbody tr th:only-of-type {\n",
       "        vertical-align: middle;\n",
       "    }\n",
       "\n",
       "    .dataframe tbody tr th {\n",
       "        vertical-align: top;\n",
       "    }\n",
       "\n",
       "    .dataframe thead th {\n",
       "        text-align: right;\n",
       "    }\n",
       "</style>\n",
       "<table border=\"1\" class=\"dataframe\">\n",
       "  <thead>\n",
       "    <tr style=\"text-align: right;\">\n",
       "      <th></th>\n",
       "      <th>PLAYER</th>\n",
       "      <th>median_season_ratings</th>\n",
       "    </tr>\n",
       "  </thead>\n",
       "  <tbody>\n",
       "    <tr>\n",
       "      <th>85</th>\n",
       "      <td>JacquesKallis</td>\n",
       "      <td>70.333333</td>\n",
       "    </tr>\n",
       "    <tr>\n",
       "      <th>12</th>\n",
       "      <td>AndreRussell</td>\n",
       "      <td>69.000000</td>\n",
       "    </tr>\n",
       "    <tr>\n",
       "      <th>196</th>\n",
       "      <td>ShaneWatson</td>\n",
       "      <td>68.000000</td>\n",
       "    </tr>\n",
       "    <tr>\n",
       "      <th>24</th>\n",
       "      <td>AzharMahmood</td>\n",
       "      <td>67.500000</td>\n",
       "    </tr>\n",
       "    <tr>\n",
       "      <th>104</th>\n",
       "      <td>KrunalPandya</td>\n",
       "      <td>63.500000</td>\n",
       "    </tr>\n",
       "    <tr>\n",
       "      <th>62</th>\n",
       "      <td>DwayneBravo</td>\n",
       "      <td>63.111111</td>\n",
       "    </tr>\n",
       "    <tr>\n",
       "      <th>9</th>\n",
       "      <td>AlbieMorkel</td>\n",
       "      <td>62.854545</td>\n",
       "    </tr>\n",
       "    <tr>\n",
       "      <th>23</th>\n",
       "      <td>AxarPatel</td>\n",
       "      <td>62.712500</td>\n",
       "    </tr>\n",
       "    <tr>\n",
       "      <th>214</th>\n",
       "      <td>SunilNarine</td>\n",
       "      <td>62.377444</td>\n",
       "    </tr>\n",
       "    <tr>\n",
       "      <th>43</th>\n",
       "      <td>ChrisMorris</td>\n",
       "      <td>60.329253</td>\n",
       "    </tr>\n",
       "    <tr>\n",
       "      <th>79</th>\n",
       "      <td>IrfanPathan</td>\n",
       "      <td>59.714286</td>\n",
       "    </tr>\n",
       "    <tr>\n",
       "      <th>73</th>\n",
       "      <td>HardikPandya</td>\n",
       "      <td>56.833333</td>\n",
       "    </tr>\n",
       "    <tr>\n",
       "      <th>103</th>\n",
       "      <td>KieronPollard</td>\n",
       "      <td>55.293939</td>\n",
       "    </tr>\n",
       "    <tr>\n",
       "      <th>174</th>\n",
       "      <td>RavindraJadeja</td>\n",
       "      <td>54.344828</td>\n",
       "    </tr>\n",
       "  </tbody>\n",
       "</table>\n",
       "</div>"
      ],
      "text/plain": [
       "             PLAYER  median_season_ratings\n",
       "85    JacquesKallis              70.333333\n",
       "12     AndreRussell              69.000000\n",
       "196     ShaneWatson              68.000000\n",
       "24     AzharMahmood              67.500000\n",
       "104    KrunalPandya              63.500000\n",
       "62      DwayneBravo              63.111111\n",
       "9       AlbieMorkel              62.854545\n",
       "23        AxarPatel              62.712500\n",
       "214     SunilNarine              62.377444\n",
       "43      ChrisMorris              60.329253\n",
       "79      IrfanPathan              59.714286\n",
       "73     HardikPandya              56.833333\n",
       "103   KieronPollard              55.293939\n",
       "174  RavindraJadeja              54.344828"
      ]
     },
     "execution_count": 65,
     "metadata": {},
     "output_type": "execute_result"
    }
   ],
   "source": [
    "top25_percentile[top25_percentile.position==\"AR\"].sort_values([\"median_season_ratings\"], ascending=False)[[\"PLAYER\", \"median_season_ratings\"]]"
   ]
  },
  {
   "cell_type": "code",
   "execution_count": 66,
   "metadata": {},
   "outputs": [
    {
     "data": {
      "text/html": [
       "<div>\n",
       "<style scoped>\n",
       "    .dataframe tbody tr th:only-of-type {\n",
       "        vertical-align: middle;\n",
       "    }\n",
       "\n",
       "    .dataframe tbody tr th {\n",
       "        vertical-align: top;\n",
       "    }\n",
       "\n",
       "    .dataframe thead th {\n",
       "        text-align: right;\n",
       "    }\n",
       "</style>\n",
       "<table border=\"1\" class=\"dataframe\">\n",
       "  <thead>\n",
       "    <tr style=\"text-align: right;\">\n",
       "      <th></th>\n",
       "      <th>PLAYER</th>\n",
       "      <th>median_season_ratings</th>\n",
       "    </tr>\n",
       "  </thead>\n",
       "  <tbody>\n",
       "    <tr>\n",
       "      <th>171</th>\n",
       "      <td>RashidKhan</td>\n",
       "      <td>81.666667</td>\n",
       "    </tr>\n",
       "    <tr>\n",
       "      <th>16</th>\n",
       "      <td>AnilKumble</td>\n",
       "      <td>81.000000</td>\n",
       "    </tr>\n",
       "    <tr>\n",
       "      <th>29</th>\n",
       "      <td>BhuvneshwarKumar</td>\n",
       "      <td>80.666667</td>\n",
       "    </tr>\n",
       "    <tr>\n",
       "      <th>108</th>\n",
       "      <td>LasithMalinga</td>\n",
       "      <td>80.526316</td>\n",
       "    </tr>\n",
       "    <tr>\n",
       "      <th>72</th>\n",
       "      <td>HarbhajanSingh</td>\n",
       "      <td>80.491071</td>\n",
       "    </tr>\n",
       "    <tr>\n",
       "      <th>132</th>\n",
       "      <td>MitchellMcClenaghan</td>\n",
       "      <td>80.400000</td>\n",
       "    </tr>\n",
       "    <tr>\n",
       "      <th>140</th>\n",
       "      <td>MunafPatel</td>\n",
       "      <td>80.384615</td>\n",
       "    </tr>\n",
       "    <tr>\n",
       "      <th>173</th>\n",
       "      <td>RavichandranAshwin</td>\n",
       "      <td>80.317540</td>\n",
       "    </tr>\n",
       "    <tr>\n",
       "      <th>195</th>\n",
       "      <td>ShaneWarne</td>\n",
       "      <td>70.488722</td>\n",
       "    </tr>\n",
       "    <tr>\n",
       "      <th>160</th>\n",
       "      <td>PraveenKumar</td>\n",
       "      <td>70.410509</td>\n",
       "    </tr>\n",
       "    <tr>\n",
       "      <th>47</th>\n",
       "      <td>DaleSteyn</td>\n",
       "      <td>60.445633</td>\n",
       "    </tr>\n",
       "    <tr>\n",
       "      <th>187</th>\n",
       "      <td>SandeepSharma</td>\n",
       "      <td>60.384615</td>\n",
       "    </tr>\n",
       "    <tr>\n",
       "      <th>88</th>\n",
       "      <td>JaspritBumrah</td>\n",
       "      <td>60.384615</td>\n",
       "    </tr>\n",
       "    <tr>\n",
       "      <th>137</th>\n",
       "      <td>MohitSharma</td>\n",
       "      <td>60.357143</td>\n",
       "    </tr>\n",
       "    <tr>\n",
       "      <th>237</th>\n",
       "      <td>YuzvendraChahal</td>\n",
       "      <td>60.333333</td>\n",
       "    </tr>\n",
       "    <tr>\n",
       "      <th>157</th>\n",
       "      <td>PiyushChawla</td>\n",
       "      <td>60.279720</td>\n",
       "    </tr>\n",
       "    <tr>\n",
       "      <th>60</th>\n",
       "      <td>DougBollinger</td>\n",
       "      <td>60.277778</td>\n",
       "    </tr>\n",
       "    <tr>\n",
       "      <th>163</th>\n",
       "      <td>RPSingh</td>\n",
       "      <td>60.270270</td>\n",
       "    </tr>\n",
       "    <tr>\n",
       "      <th>223</th>\n",
       "      <td>UmeshYadav</td>\n",
       "      <td>50.250627</td>\n",
       "    </tr>\n",
       "    <tr>\n",
       "      <th>11</th>\n",
       "      <td>AmitMishra</td>\n",
       "      <td>50.217391</td>\n",
       "    </tr>\n",
       "    <tr>\n",
       "      <th>144</th>\n",
       "      <td>MuttiahMuralitharan</td>\n",
       "      <td>50.208333</td>\n",
       "    </tr>\n",
       "    <tr>\n",
       "      <th>113</th>\n",
       "      <td>MFMaharoof</td>\n",
       "      <td>46.316220</td>\n",
       "    </tr>\n",
       "    <tr>\n",
       "      <th>139</th>\n",
       "      <td>MorneMorkel</td>\n",
       "      <td>41.194903</td>\n",
       "    </tr>\n",
       "  </tbody>\n",
       "</table>\n",
       "</div>"
      ],
      "text/plain": [
       "                  PLAYER  median_season_ratings\n",
       "171           RashidKhan              81.666667\n",
       "16            AnilKumble              81.000000\n",
       "29      BhuvneshwarKumar              80.666667\n",
       "108        LasithMalinga              80.526316\n",
       "72        HarbhajanSingh              80.491071\n",
       "132  MitchellMcClenaghan              80.400000\n",
       "140           MunafPatel              80.384615\n",
       "173   RavichandranAshwin              80.317540\n",
       "195           ShaneWarne              70.488722\n",
       "160         PraveenKumar              70.410509\n",
       "47             DaleSteyn              60.445633\n",
       "187        SandeepSharma              60.384615\n",
       "88         JaspritBumrah              60.384615\n",
       "137          MohitSharma              60.357143\n",
       "237      YuzvendraChahal              60.333333\n",
       "157         PiyushChawla              60.279720\n",
       "60         DougBollinger              60.277778\n",
       "163              RPSingh              60.270270\n",
       "223           UmeshYadav              50.250627\n",
       "11            AmitMishra              50.217391\n",
       "144  MuttiahMuralitharan              50.208333\n",
       "113           MFMaharoof              46.316220\n",
       "139          MorneMorkel              41.194903"
      ]
     },
     "execution_count": 66,
     "metadata": {},
     "output_type": "execute_result"
    }
   ],
   "source": [
    "top25_percentile[top25_percentile.position==\"BWL\"].sort_values([\"median_season_ratings\"], ascending=False)[[\"PLAYER\", \"median_season_ratings\"]]"
   ]
  },
  {
   "cell_type": "code",
   "execution_count": 67,
   "metadata": {},
   "outputs": [
    {
     "data": {
      "text/html": [
       "<div>\n",
       "<style scoped>\n",
       "    .dataframe tbody tr th:only-of-type {\n",
       "        vertical-align: middle;\n",
       "    }\n",
       "\n",
       "    .dataframe tbody tr th {\n",
       "        vertical-align: top;\n",
       "    }\n",
       "\n",
       "    .dataframe thead th {\n",
       "        text-align: right;\n",
       "    }\n",
       "</style>\n",
       "<table border=\"1\" class=\"dataframe\">\n",
       "  <thead>\n",
       "    <tr style=\"text-align: right;\">\n",
       "      <th></th>\n",
       "      <th>PLAYER</th>\n",
       "      <th>median_season_ratings</th>\n",
       "    </tr>\n",
       "  </thead>\n",
       "  <tbody>\n",
       "    <tr>\n",
       "      <th>230</th>\n",
       "      <td>VirenderSehwag</td>\n",
       "      <td>80.588235</td>\n",
       "    </tr>\n",
       "    <tr>\n",
       "      <th>53</th>\n",
       "      <td>DavidWarner</td>\n",
       "      <td>80.555556</td>\n",
       "    </tr>\n",
       "    <tr>\n",
       "      <th>216</th>\n",
       "      <td>SureshRaina</td>\n",
       "      <td>80.513158</td>\n",
       "    </tr>\n",
       "    <tr>\n",
       "      <th>40</th>\n",
       "      <td>ChrisGayle</td>\n",
       "      <td>80.476190</td>\n",
       "    </tr>\n",
       "    <tr>\n",
       "      <th>178</th>\n",
       "      <td>RohitSharma</td>\n",
       "      <td>75.639731</td>\n",
       "    </tr>\n",
       "    <tr>\n",
       "      <th>127</th>\n",
       "      <td>MatthewHayden</td>\n",
       "      <td>60.322581</td>\n",
       "    </tr>\n",
       "    <tr>\n",
       "      <th>229</th>\n",
       "      <td>ViratKohli</td>\n",
       "      <td>55.235135</td>\n",
       "    </tr>\n",
       "    <tr>\n",
       "      <th>0</th>\n",
       "      <td>ABdeVilliers</td>\n",
       "      <td>50.344828</td>\n",
       "    </tr>\n",
       "    <tr>\n",
       "      <th>63</th>\n",
       "      <td>DwayneSmith</td>\n",
       "      <td>50.270270</td>\n",
       "    </tr>\n",
       "    <tr>\n",
       "      <th>204</th>\n",
       "      <td>ShreyasIyer</td>\n",
       "      <td>50.238095</td>\n",
       "    </tr>\n",
       "    <tr>\n",
       "      <th>201</th>\n",
       "      <td>ShikharDhawan</td>\n",
       "      <td>50.227273</td>\n",
       "    </tr>\n",
       "    <tr>\n",
       "      <th>236</th>\n",
       "      <td>YuvrajSingh</td>\n",
       "      <td>44.192308</td>\n",
       "    </tr>\n",
       "    <tr>\n",
       "      <th>183</th>\n",
       "      <td>SachinTendulkar</td>\n",
       "      <td>41.257649</td>\n",
       "    </tr>\n",
       "  </tbody>\n",
       "</table>\n",
       "</div>"
      ],
      "text/plain": [
       "              PLAYER  median_season_ratings\n",
       "230   VirenderSehwag              80.588235\n",
       "53       DavidWarner              80.555556\n",
       "216      SureshRaina              80.513158\n",
       "40        ChrisGayle              80.476190\n",
       "178      RohitSharma              75.639731\n",
       "127    MatthewHayden              60.322581\n",
       "229       ViratKohli              55.235135\n",
       "0       ABdeVilliers              50.344828\n",
       "63       DwayneSmith              50.270270\n",
       "204      ShreyasIyer              50.238095\n",
       "201    ShikharDhawan              50.227273\n",
       "236      YuvrajSingh              44.192308\n",
       "183  SachinTendulkar              41.257649"
      ]
     },
     "execution_count": 67,
     "metadata": {},
     "output_type": "execute_result"
    }
   ],
   "source": [
    "top25_percentile[top25_percentile.position==\"BAT\"].sort_values([\"median_season_ratings\"], ascending=False)[[\"PLAYER\", \"median_season_ratings\"]]"
   ]
  },
  {
   "cell_type": "markdown",
   "metadata": {},
   "source": [
    "### Assigning Costs based on the rating distribution"
   ]
  },
  {
   "cell_type": "code",
   "execution_count": 68,
   "metadata": {},
   "outputs": [],
   "source": [
    "# base price in crores\n",
    "base_price_dict = {\">90\": 2, \"80-90\": 1.5, \"60-80\":1, \"50-60\": 0.75, \"40-50\": 0.5, \"30-40\": 0.4, \"<30\":0.3}\n",
    "# Defining percentiles\n",
    "\n",
    "median_ratings = full_agg_stats_merged[\"median_season_ratings\"]\n",
    "avg_ratings = full_agg_stats_merged[\"avg_season_ratings\"]"
   ]
  },
  {
   "cell_type": "code",
   "execution_count": 69,
   "metadata": {},
   "outputs": [],
   "source": [
    "def get_price(value, rating):\n",
    "    if value > np.percentile(rating, 90):\n",
    "        return base_price_dict[\">90\"]\n",
    "    elif (value > np.percentile(rating, 80)) and (value <= np.percentile(rating, 90)):\n",
    "        return base_price_dict[\"80-90\"]\n",
    "    elif (value > np.percentile(rating, 60)) and (value <= np.percentile(rating, 80)):\n",
    "        return base_price_dict[\"60-80\"]\n",
    "    elif (value > np.percentile(rating, 50)) and (value <= np.percentile(rating, 60)):\n",
    "        return base_price_dict[\"50-60\"]\n",
    "    elif (value > np.percentile(rating, 40)) and (value <= np.percentile(rating, 50)):\n",
    "        return base_price_dict[\"40-50\"]\n",
    "    elif (value > np.percentile(rating, 30)) and (value <= np.percentile(rating, 40)):\n",
    "        return base_price_dict[\"30-40\"]\n",
    "    else:\n",
    "        return base_price_dict[\"<30\"]"
   ]
  },
  {
   "cell_type": "code",
   "execution_count": 70,
   "metadata": {},
   "outputs": [],
   "source": [
    "def get_base_price(player_record):\n",
    "    median_rating = player_record[\"median_season_ratings\"]\n",
    "    avg_rating = player_record[\"avg_season_ratings\"]\n",
    "    return max(get_price(median_rating, median_ratings), get_price(avg_rating, avg_ratings))\n",
    "    "
   ]
  },
  {
   "cell_type": "code",
   "execution_count": 71,
   "metadata": {},
   "outputs": [],
   "source": [
    "full_agg_stats_merged[\"base_price\"] = full_agg_stats_merged.apply(lambda x: get_base_price(x), axis=1)"
   ]
  },
  {
   "cell_type": "code",
   "execution_count": 72,
   "metadata": {},
   "outputs": [],
   "source": [
    "full_agg_stats_merged.to_csv(\"./data/IPL-aggregated-stats_final.csv\", index=False)"
   ]
  },
  {
   "cell_type": "code",
   "execution_count": 73,
   "metadata": {},
   "outputs": [
    {
     "data": {
      "text/plain": [
       "(239, 23)"
      ]
     },
     "execution_count": 73,
     "metadata": {},
     "output_type": "execute_result"
    }
   ],
   "source": [
    "full_agg_stats_merged.shape"
   ]
  },
  {
   "cell_type": "code",
   "execution_count": 76,
   "metadata": {},
   "outputs": [],
   "source": [
    "only_players = pd.DataFrame({\"player_name\": full_agg_stats_merged[\"PLAYER\"].values})\n",
    "only_players.to_csv(\"./server/files/all_players.csv\", index=False)"
   ]
  },
  {
   "cell_type": "code",
   "execution_count": 77,
   "metadata": {},
   "outputs": [],
   "source": [
    "import os"
   ]
  },
  {
   "cell_type": "code",
   "execution_count": 78,
   "metadata": {},
   "outputs": [
    {
     "data": {
      "text/plain": [
       "['IPL-aggregated-stats_final.csv', 'all_players.csv']"
      ]
     },
     "execution_count": 78,
     "metadata": {},
     "output_type": "execute_result"
    }
   ],
   "source": [
    "os.listdir(\"./server/files/\")"
   ]
  },
  {
   "cell_type": "code",
   "execution_count": 80,
   "metadata": {},
   "outputs": [
    {
     "data": {
      "text/plain": [
       "0.5454843193824369"
      ]
     },
     "execution_count": 80,
     "metadata": {},
     "output_type": "execute_result"
    }
   ],
   "source": []
  },
  {
   "cell_type": "code",
   "execution_count": null,
   "metadata": {},
   "outputs": [],
   "source": []
  }
 ],
 "metadata": {
  "kernelspec": {
   "display_name": "Python 3",
   "language": "python",
   "name": "python3"
  },
  "language_info": {
   "codemirror_mode": {
    "name": "ipython",
    "version": 3
   },
   "file_extension": ".py",
   "mimetype": "text/x-python",
   "name": "python",
   "nbconvert_exporter": "python",
   "pygments_lexer": "ipython3",
   "version": "3.6.10"
  }
 },
 "nbformat": 4,
 "nbformat_minor": 2
}
